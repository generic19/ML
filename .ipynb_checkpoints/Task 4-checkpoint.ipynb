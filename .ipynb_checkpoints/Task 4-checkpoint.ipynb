{
 "cells": [
  {
   "cell_type": "code",
   "execution_count": 1,
   "id": "f724830a",
   "metadata": {},
   "outputs": [],
   "source": [
    "import pandas as pd\n",
    "import numpy as np"
   ]
  },
  {
   "cell_type": "markdown",
   "id": "fe22ef72",
   "metadata": {},
   "source": [
    "## Question 2"
   ]
  },
  {
   "cell_type": "code",
   "execution_count": 2,
   "id": "f146a588",
   "metadata": {},
   "outputs": [
    {
     "name": "stdout",
     "output_type": "stream",
     "text": [
      "['x1', 'x2', 'x3', 'x4', 'x5', 'x6', 'x7', 'x8', 'x9', 'x10', 'x11', 'x12', 'x13', 'target']\n"
     ]
    }
   ],
   "source": [
    "column_names = [f\"x{i+1}\" for i in range(13)] + [\"target\"]\n",
    "print(column_names)"
   ]
  },
  {
   "cell_type": "code",
   "execution_count": 3,
   "id": "bd56d9a3",
   "metadata": {},
   "outputs": [],
   "source": [
    "df = pd.read_csv(\"data/heart cancer.txt\", header=None, names=column_names)"
   ]
  },
  {
   "cell_type": "markdown",
   "id": "d7321ba6",
   "metadata": {},
   "source": [
    "## Question 3"
   ]
  },
  {
   "cell_type": "code",
   "execution_count": 4,
   "id": "ea4524d9",
   "metadata": {},
   "outputs": [
    {
     "name": "stdout",
     "output_type": "stream",
     "text": [
      "    x1  x2  x3   x4   x5  x6  x7   x8  x9  x10  x11  x12  x13  target\n",
      "0   63   1   3  145  233   1   0  150   0  2.3    0    0    1       1\n",
      "1   37   1   2  130  250   0   1  187   0  3.5    0    0    2       1\n",
      "2   41   0   1  130  204   0   0  172   0  1.4    2    0    2       1\n",
      "3   56   1   1  120  236   0   1  178   0  0.8    2    0    2       1\n",
      "4   57   0   0  120  354   0   1  163   1  0.6    2    0    2       1\n",
      "5   57   1   0  140  192   0   1  148   0  0.4    1    0    1       1\n",
      "6   56   0   1  140  294   0   0  153   0  1.3    1    0    2       1\n",
      "7   44   1   1  120  263   0   1  173   0  0.0    2    0    3       1\n",
      "8   52   1   2  172  199   1   1  162   0  0.5    2    0    3       1\n",
      "9   57   1   2  150  168   0   1  174   0  1.6    2    0    2       1\n",
      "10  54   1   0  140  239   0   1  160   0  1.2    2    0    2       1\n",
      "11  48   0   2  130  275   0   1  139   0  0.2    2    0    2       1\n",
      "12  49   1   1  130  266   0   1  171   0  0.6    2    0    2       1\n",
      "13  64   1   3  110  211   0   0  144   1  1.8    1    0    2       1\n",
      "14  58   0   3  150  283   1   0  162   0  1.0    2    0    2       1\n",
      "15  50   0   2  120  219   0   1  158   0  1.6    1    0    2       1\n",
      "16  58   0   2  120  340   0   1  172   0  0.0    2    0    2       1\n",
      "17  66   0   3  150  226   0   1  114   0  2.6    0    0    2       1\n",
      "18  43   1   0  150  247   0   1  171   0  1.5    2    0    2       1\n",
      "19  69   0   3  140  239   0   1  151   0  1.8    2    2    2       1\n"
     ]
    }
   ],
   "source": [
    "print(df.head(20))"
   ]
  },
  {
   "cell_type": "code",
   "execution_count": 5,
   "id": "3bb55106",
   "metadata": {},
   "outputs": [
    {
     "name": "stdout",
     "output_type": "stream",
     "text": [
      "               x1          x2          x3          x4          x5          x6  \\\n",
      "count  303.000000  303.000000  303.000000  303.000000  303.000000  303.000000   \n",
      "mean    54.366337    0.683168    0.966997  131.623762  246.264026    0.148515   \n",
      "std      9.082101    0.466011    1.032052   17.538143   51.830751    0.356198   \n",
      "min     29.000000    0.000000    0.000000   94.000000  126.000000    0.000000   \n",
      "25%     47.500000    0.000000    0.000000  120.000000  211.000000    0.000000   \n",
      "50%     55.000000    1.000000    1.000000  130.000000  240.000000    0.000000   \n",
      "75%     61.000000    1.000000    2.000000  140.000000  274.500000    0.000000   \n",
      "max     77.000000    1.000000    3.000000  200.000000  564.000000    1.000000   \n",
      "\n",
      "               x7          x8          x9         x10         x11         x12  \\\n",
      "count  303.000000  303.000000  303.000000  303.000000  303.000000  303.000000   \n",
      "mean     0.528053  149.646865    0.326733    1.039604    1.399340    0.729373   \n",
      "std      0.525860   22.905161    0.469794    1.161075    0.616226    1.022606   \n",
      "min      0.000000   71.000000    0.000000    0.000000    0.000000    0.000000   \n",
      "25%      0.000000  133.500000    0.000000    0.000000    1.000000    0.000000   \n",
      "50%      1.000000  153.000000    0.000000    0.800000    1.000000    0.000000   \n",
      "75%      1.000000  166.000000    1.000000    1.600000    2.000000    1.000000   \n",
      "max      2.000000  202.000000    1.000000    6.200000    2.000000    4.000000   \n",
      "\n",
      "              x13      target  \n",
      "count  303.000000  303.000000  \n",
      "mean     2.313531    0.544554  \n",
      "std      0.612277    0.498835  \n",
      "min      0.000000    0.000000  \n",
      "25%      2.000000    0.000000  \n",
      "50%      2.000000    1.000000  \n",
      "75%      3.000000    1.000000  \n",
      "max      3.000000    1.000000  \n"
     ]
    }
   ],
   "source": [
    "print(df.describe())"
   ]
  },
  {
   "cell_type": "markdown",
   "id": "89e63a35",
   "metadata": {},
   "source": [
    "## Question 4"
   ]
  },
  {
   "cell_type": "code",
   "execution_count": 6,
   "id": "8f8c1819",
   "metadata": {},
   "outputs": [],
   "source": [
    "cancer = df[df[\"target\"] == 1]\n",
    "not_cancer = df[df[\"target\"] == 0]"
   ]
  },
  {
   "cell_type": "markdown",
   "id": "d2102bee",
   "metadata": {},
   "source": [
    "## Question 5"
   ]
  },
  {
   "cell_type": "code",
   "execution_count": 7,
   "id": "160380ad",
   "metadata": {},
   "outputs": [
    {
     "name": "stdout",
     "output_type": "stream",
     "text": [
      "shape of cancer = (165, 14)\n",
      "shape of not_cancer = (138, 14)\n"
     ]
    }
   ],
   "source": [
    "print(\"shape of cancer =\", cancer.shape)\n",
    "print(\"shape of not_cancer =\", not_cancer.shape)"
   ]
  }
 ],
 "metadata": {
  "kernelspec": {
   "display_name": "Python 3 (ipykernel)",
   "language": "python",
   "name": "python3"
  },
  "language_info": {
   "codemirror_mode": {
    "name": "ipython",
    "version": 3
   },
   "file_extension": ".py",
   "mimetype": "text/x-python",
   "name": "python",
   "nbconvert_exporter": "python",
   "pygments_lexer": "ipython3",
   "version": "3.11.2"
  }
 },
 "nbformat": 4,
 "nbformat_minor": 5
}
